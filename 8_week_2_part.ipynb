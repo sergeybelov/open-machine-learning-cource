{
 "cells": [
  {
   "cell_type": "code",
   "execution_count": 1,
   "metadata": {
    "collapsed": true
   },
   "outputs": [],
   "source": [
    "import os\n",
    "from tqdm import tqdm\n",
    "from time import time\n",
    "import numpy as np\n",
    "from sklearn.metrics import accuracy_score"
   ]
  },
  {
   "cell_type": "markdown",
   "metadata": {},
   "source": [
    "# 2.4. Обучение и проверка моделей\n",
    "Обучите Vowpal Wabbit на выборке stackoverflow_train.vw 9 раз, перебирая параметры passes (1,3,5), ngram (1,2,3). Остальные параметры укажите следующие: bit_precision=28 и seed=17. Также скажите VW, что это 10-классовая задача.\n",
    "Проверяйте долю правильных ответов на выборке stackoverflow_valid.vw. Выберите лучшую модель и проверьте качество на выборке stackoverflow_test.vw."
   ]
  },
  {
   "cell_type": "markdown",
   "metadata": {},
   "source": [
    " -oaa 10 – указываем, что классификация на 10 классов\n",
    "\n",
    "-d – путь к данным\n",
    "-f – путь к модели, которая будет построена\n",
    "-b 28 – используем 28 бит для хэширования, то есть признаковое пространство ограничено 228 признаками, что в данном случае больше, чем число уникальных слов в выборке (но потом появятся би- и триграммы, и ограничение размерности признакового пространства начнет работать)\n",
    "также указываем random seed\n",
    "--quiet"
   ]
  },
  {
   "cell_type": "code",
   "execution_count": 2,
   "metadata": {},
   "outputs": [
    {
     "name": "stdout",
     "output_type": "stream",
     "text": [
      "Generating 1-grams for all namespaces.\n",
      "final_regressor = /ml/vw_model1_10mln.vw\n",
      "Num weight bits = 28\n",
      "learning rate = 0.5\n",
      "initial_t = 0\n",
      "power_t = 0.5\n",
      "using cache_file = /ml/stackoverflow_train.vw.cache\n",
      "ignoring text input in favor of cache input\n",
      "num sources = 1\n",
      "average  since         example        example  current  current  current\n",
      "loss     last          counter         weight    label  predict features\n",
      "1.000000 1.000000            1            1.0  unknown        1      160\n",
      "1.000000 1.000000            2            2.0  unknown        1       67\n",
      "1.000000 1.000000            4            4.0  unknown        1       87\n",
      "1.000000 1.000000            8            8.0  unknown        1       94\n",
      "1.000000 1.000000           16           16.0  unknown        1      208\n",
      "1.000000 1.000000           32           32.0  unknown        1      173\n",
      "1.000000 1.000000           64           64.0  unknown        1      203\n",
      "1.000000 1.000000          128          128.0  unknown        1       28\n",
      "1.000000 1.000000          256          256.0  unknown        1      168\n",
      "1.000000 1.000000          512          512.0  unknown        1      302\n",
      "1.000000 1.000000         1024         1024.0  unknown        1      122\n",
      "1.000000 1.000000         2048         2048.0  unknown        1       82\n",
      "1.000000 1.000000         4096         4096.0  unknown        1       78\n",
      "1.000000 1.000000         8192         8192.0  unknown        1      111\n",
      "1.000000 1.000000        16384        16384.0  unknown        1      251\n",
      "1.000000 1.000000        32768        32768.0  unknown        1      133\n",
      "1.000000 1.000000        65536        65536.0  unknown        1      144\n",
      "1.000000 1.000000       131072       131072.0  unknown        1      254\n",
      "1.000000 1.000000       262144       262144.0  unknown        1      100\n",
      "1.000000 1.000000       524288       524288.0  unknown        1      817\n",
      "1.000000 1.000000      1048576      1048576.0  unknown        1      570\n",
      "\n",
      "finished run\n",
      "number of examples per pass = 1463018\n",
      "passes used = 1\n",
      "weighted example sum = 1463018.000000\n",
      "weighted label sum = 0.000000\n",
      "average loss = 1.000000\n",
      "total feature number = 290491672\n",
      "CPU times: user 2.56 s, sys: 3.29 s, total: 5.85 s\n",
      "Wall time: 49.2 s\n"
     ]
    }
   ],
   "source": [
    "%%time\n",
    "#обучение\n",
    "!vw --passes 1 --ngram 1 --oaa 10 -d /ml/stackoverflow_train.vw -f /ml/vw_model1_10mln.vw -b28 --random_seed 17 -c"
   ]
  },
  {
   "cell_type": "code",
   "execution_count": null,
   "metadata": {},
   "outputs": [
    {
     "name": "stdout",
     "output_type": "stream",
     "text": [
      "Generating 1-grams for all namespaces.\n",
      "only testing\n",
      "predictions = /ml/vw_valid_10mln_pred1.csv\n",
      "Num weight bits = 28\n",
      "learning rate = 0.5\n",
      "initial_t = 0\n",
      "power_t = 0.5\n",
      "using no cache\n",
      "Reading datafile = /ml/stackoverflow_valid.vw\n",
      "num sources = 1\n",
      "average  since         example        example  current  current  current\n",
      "loss     last          counter         weight    label  predict features\n",
      "1.000000 1.000000            1            1.0  unknown        1      177\n",
      "1.000000 1.000000            2            2.0  unknown        1       73\n",
      "1.000000 1.000000            4            4.0  unknown        1      258\n",
      "1.000000 1.000000            8            8.0  unknown        1      143\n",
      "1.000000 1.000000           16           16.0  unknown        1      358\n",
      "1.000000 1.000000           32           32.0  unknown        1      399\n",
      "1.000000 1.000000           64           64.0  unknown        1     1060\n",
      "1.000000 1.000000          128          128.0  unknown        1      131\n",
      "1.000000 1.000000          256          256.0  unknown        1       87\n",
      "1.000000 1.000000          512          512.0  unknown        1       34\n",
      "1.000000 1.000000         1024         1024.0  unknown        1       87\n",
      "1.000000 1.000000         2048         2048.0  unknown        1      242\n",
      "1.000000 1.000000         4096         4096.0  unknown        1      262\n",
      "1.000000 1.000000         8192         8192.0  unknown        1      271\n",
      "1.000000 1.000000        16384        16384.0  unknown        1      126\n",
      "1.000000 1.000000        32768        32768.0  unknown        1       90\n",
      "1.000000 1.000000        65536        65536.0  unknown        1      285\n",
      "1.000000 1.000000       131072       131072.0  unknown        1      175\n",
      "1.000000 1.000000       262144       262144.0  unknown        1      247\n"
     ]
    }
   ],
   "source": [
    "%%time\n",
    "#валидация\n",
    "!vw -t -i /ml/vw_model1_10mln.vw \\-d /ml/stackoverflow_valid.vw \\-p /ml/vw_valid_10mln_pred1.csv --random_seed 17 \n",
    "vw_pred = np.loadtxt('/ml/vw_valid_10mln_pred1.csv')\n",
    "test_labels = np.loadtxt('/ml/stackoverflow_valid_labels.txt')\n",
    "accuracy_score(test_labels, vw_pred)"
   ]
  },
  {
   "cell_type": "code",
   "execution_count": null,
   "metadata": {
    "collapsed": true
   },
   "outputs": [],
   "source": []
  }
 ],
 "metadata": {
  "kernelspec": {
   "display_name": "Python 3",
   "language": "python",
   "name": "python3"
  },
  "language_info": {
   "codemirror_mode": {
    "name": "ipython",
    "version": 3
   },
   "file_extension": ".py",
   "mimetype": "text/x-python",
   "name": "python",
   "nbconvert_exporter": "python",
   "pygments_lexer": "ipython3",
   "version": "3.5.2"
  }
 },
 "nbformat": 4,
 "nbformat_minor": 2
}

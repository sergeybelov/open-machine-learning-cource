{
 "cells": [
  {
   "cell_type": "code",
   "execution_count": 1,
   "metadata": {
    "collapsed": true
   },
   "outputs": [],
   "source": [
    "import os\n",
    "from tqdm import tqdm\n",
    "from time import time\n",
    "import numpy as np\n",
    "from sklearn.metrics import accuracy_score"
   ]
  },
  {
   "cell_type": "markdown",
   "metadata": {},
   "source": [
    "# 2.4. Обучение и проверка моделей\n",
    "Обучите Vowpal Wabbit на выборке stackoverflow_train.vw 9 раз, перебирая параметры passes (1,3,5), ngram (1,2,3). Остальные параметры укажите следующие: bit_precision=28 и seed=17. Также скажите VW, что это 10-классовая задача.\n",
    "Проверяйте долю правильных ответов на выборке stackoverflow_valid.vw. Выберите лучшую модель и проверьте качество на выборке stackoverflow_test.vw."
   ]
  },
  {
   "cell_type": "markdown",
   "metadata": {},
   "source": [
    " -oaa 10 – указываем, что классификация на 10 классов\n",
    "\n",
    "-d – путь к данным\n",
    "-f – путь к модели, которая будет построена\n",
    "-b 28 – используем 28 бит для хэширования, то есть признаковое пространство ограничено 228 признаками, что в данном случае больше, чем число уникальных слов в выборке (но потом появятся би- и триграммы, и ограничение размерности признакового пространства начнет работать)\n",
    "также указываем random seed\n",
    "--quiet"
   ]
  },
  {
   "cell_type": "code",
   "execution_count": null,
   "metadata": {},
   "outputs": [
    {
     "name": "stdout",
     "output_type": "stream",
     "text": [
      "Generating 3-grams for all namespaces.\n",
      "final_regressor = /ml/vw_model1_10mln.vw\n",
      "Num weight bits = 28\n",
      "learning rate = 0.5\n",
      "initial_t = 0\n",
      "power_t = 0.5\n",
      "decay_learning_rate = 1\n",
      "creating cache_file = /ml/stackoverflow_train.vw.cache\n",
      "Reading datafile = /ml/stackoverflow_train.vw\n",
      "num sources = 1\n",
      "average  since         example        example  current  current  current\n",
      "loss     last          counter         weight    label  predict features\n",
      "1.000000 1.000000            1            1.0  unknown        1      475\n",
      "1.000000 1.000000            2            2.0  unknown        1      196\n",
      "1.000000 1.000000            4            4.0  unknown        1      256\n",
      "1.000000 1.000000            8            8.0  unknown        1      277\n",
      "1.000000 1.000000           16           16.0  unknown        1      469\n",
      "1.000000 1.000000           32           32.0  unknown        1     1204\n",
      "1.000000 1.000000           64           64.0  unknown        1      301\n",
      "1.000000 1.000000          128          128.0  unknown        1      820\n",
      "1.000000 1.000000          256          256.0  unknown        1      298\n",
      "1.000000 1.000000          512          512.0  unknown        1      196\n",
      "1.000000 1.000000         1024         1024.0  unknown        1      388\n",
      "1.000000 1.000000         2048         2048.0  unknown        1      205\n",
      "1.000000 1.000000         4096         4096.0  unknown        1      949\n",
      "1.000000 1.000000         8192         8192.0  unknown        1       64\n",
      "1.000000 1.000000        16384        16384.0  unknown        1     1735\n",
      "1.000000 1.000000        32768        32768.0  unknown        1       76\n",
      "1.000000 1.000000        65536        65536.0  unknown        1      544\n",
      "1.000000 1.000000       131072       131072.0  unknown        1      277\n",
      "1.000000 1.000000       262144       262144.0  unknown        1      688\n"
     ]
    }
   ],
   "source": [
    "%%time\n",
    "!vw --oaa 10 -d /ml/stackoverflow_train.vw -f /ml/vw_model1_10mln.vw -b28 --random_seed 17 --passes=5 --ngram=3 -c"
   ]
  },
  {
   "cell_type": "code",
   "execution_count": null,
   "metadata": {
    "collapsed": true
   },
   "outputs": [],
   "source": []
  }
 ],
 "metadata": {
  "kernelspec": {
   "display_name": "Python 3",
   "language": "python",
   "name": "python3"
  },
  "language_info": {
   "codemirror_mode": {
    "name": "ipython",
    "version": 3
   },
   "file_extension": ".py",
   "mimetype": "text/x-python",
   "name": "python",
   "nbconvert_exporter": "python",
   "pygments_lexer": "ipython3",
   "version": "3.5.2"
  }
 },
 "nbformat": 4,
 "nbformat_minor": 2
}

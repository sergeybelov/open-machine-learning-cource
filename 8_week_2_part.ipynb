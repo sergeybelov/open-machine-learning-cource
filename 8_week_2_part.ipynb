{
 "cells": [
  {
   "cell_type": "code",
   "execution_count": 16,
   "metadata": {
    "collapsed": true
   },
   "outputs": [],
   "source": [
    "import os\n",
    "from tqdm import tqdm\n",
    "from time import time\n",
    "import numpy as np\n",
    "from sklearn.metrics import accuracy_score"
   ]
  },
  {
   "cell_type": "markdown",
   "metadata": {},
   "source": [
    "# 2.4. Обучение и проверка моделей\n",
    "Обучите Vowpal Wabbit на выборке stackoverflow_train.vw 9 раз, перебирая параметры passes (1,3,5), ngram (1,2,3). Остальные параметры укажите следующие: bit_precision=28 и seed=17. Также скажите VW, что это 10-классовая задача.\n",
    "Проверяйте долю правильных ответов на выборке stackoverflow_valid.vw. Выберите лучшую модель и проверьте качество на выборке stackoverflow_test.vw."
   ]
  },
  {
   "cell_type": "markdown",
   "metadata": {},
   "source": [
    " -oaa 10 – указываем, что классификация на 10 классов\n",
    "\n",
    "-d – путь к данным\n",
    "-f – путь к модели, которая будет построена\n",
    "-b 28 – используем 28 бит для хэширования, то есть признаковое пространство ограничено 228 признаками, что в данном случае больше, чем число уникальных слов в выборке (но потом появятся би- и триграммы, и ограничение размерности признакового пространства начнет работать)\n",
    "также указываем random seed\n",
    "--quiet"
   ]
  },
  {
   "cell_type": "code",
   "execution_count": 17,
   "metadata": {},
   "outputs": [
    {
     "name": "stderr",
     "output_type": "stream",
     "text": [
      "\r",
      "0it [00:00, ?it/s]"
     ]
    },
    {
     "name": "stdout",
     "output_type": "stream",
     "text": [
      "start\n"
     ]
    },
    {
     "name": "stderr",
     "output_type": "stream",
     "text": [
      "\r",
      "1it [00:19, 19.14s/it]"
     ]
    },
    {
     "name": "stdout",
     "output_type": "stream",
     "text": [
      "accuracy_score  --passes 1 --ngram 1 :  0.915154153948\n"
     ]
    },
    {
     "name": "stderr",
     "output_type": "stream",
     "text": [
      "\r",
      "2it [03:12, 65.34s/it]"
     ]
    },
    {
     "name": "stdout",
     "output_type": "stream",
     "text": [
      "accuracy_score  --passes 3 --ngram 1 :  0.914369474607\n"
     ]
    },
    {
     "name": "stderr",
     "output_type": "stream",
     "text": [
      "\r",
      "3it [06:27, 104.43s/it]"
     ]
    },
    {
     "name": "stdout",
     "output_type": "stream",
     "text": [
      "accuracy_score  --passes 5 --ngram 1 :  0.913653830643\n"
     ]
    },
    {
     "name": "stderr",
     "output_type": "stream",
     "text": [
      "\r",
      "4it [09:52, 134.36s/it]"
     ]
    },
    {
     "name": "stdout",
     "output_type": "stream",
     "text": [
      "accuracy_score  --passes 1 --ngram 2 :  0.931083554679\n"
     ]
    },
    {
     "name": "stderr",
     "output_type": "stream",
     "text": [
      "\r",
      "5it [16:03, 205.52s/it]"
     ]
    },
    {
     "name": "stdout",
     "output_type": "stream",
     "text": [
      "accuracy_score  --passes 3 --ngram 2 :  0.927801298412\n"
     ]
    },
    {
     "name": "stderr",
     "output_type": "stream",
     "text": [
      "\r",
      "6it [23:02, 269.66s/it]"
     ]
    },
    {
     "name": "stdout",
     "output_type": "stream",
     "text": [
      "accuracy_score  --passes 5 --ngram 2 :  0.929235320413\n"
     ]
    },
    {
     "name": "stderr",
     "output_type": "stream",
     "text": [
      "\r",
      "7it [28:14, 282.35s/it]"
     ]
    },
    {
     "name": "stdout",
     "output_type": "stream",
     "text": [
      "accuracy_score  --passes 1 --ngram 3 :  0.928603065718\n"
     ]
    },
    {
     "name": "stderr",
     "output_type": "stream",
     "text": [
      "\r",
      "8it [39:21, 397.64s/it]"
     ]
    },
    {
     "name": "stdout",
     "output_type": "stream",
     "text": [
      "accuracy_score  --passes 3 --ngram 3 :  0.926387781969\n"
     ]
    },
    {
     "name": "stderr",
     "output_type": "stream",
     "text": [
      "\r",
      "9it [50:43, 482.84s/it]"
     ]
    },
    {
     "name": "stdout",
     "output_type": "stream",
     "text": [
      "accuracy_score  --passes 5 --ngram 3 :  0.926167005464\n",
      "best -  --passes 1 --ngram 2 : 93.11\n"
     ]
    },
    {
     "name": "stderr",
     "output_type": "stream",
     "text": [
      "\n"
     ]
    }
   ],
   "source": [
    "from tqdm import tqdm\n",
    "\n",
    "print('start')\n",
    "pbar = tqdm()\n",
    "\n",
    "best_score={}\n",
    "def validation(text):#валидация\n",
    "    pbar.update(1)\n",
    "    !vw -t -i /ml/vw_model1_10mln.vw -d /ml/stackoverflow_valid.vw -p /ml/vw_valid_10mln_pred1.csv --random_seed 17 --quiet\n",
    "    #оценка\n",
    "    vw_pred = np.loadtxt('/ml/vw_valid_10mln_pred1.csv')\n",
    "    test_labels = np.loadtxt('/ml/stackoverflow_valid_labels.txt')\n",
    "    best_score[text]=accuracy_score(test_labels, vw_pred)\n",
    "    print('accuracy_score ',text,': ',best_score[text])\n",
    "\n",
    "\n",
    "#обучение\n",
    "!vw --passes 1 --ngram 1 --oaa 10 -d /ml/stackoverflow_train.vw -f /ml/vw_model1_10mln.vw --bit_precision 28 --random_seed 17 -c --quiet\n",
    "validation('--passes 1 --ngram 1')\n",
    "\n",
    "!vw --passes 3 --ngram 1 --oaa 10 -d /ml/stackoverflow_train.vw -f /ml/vw_model1_10mln.vw --bit_precision 28 --random_seed 17 -c --quiet\n",
    "validation('--passes 3 --ngram 1')\n",
    "\n",
    "!vw --passes 5 --ngram 1 --oaa 10 -d /ml/stackoverflow_train.vw -f /ml/vw_model1_10mln.vw --bit_precision 28 --random_seed 17 -c --quiet\n",
    "validation('--passes 5 --ngram 1')\n",
    "\n",
    "#best\n",
    "!vw --passes 1 --ngram 2 --oaa 10 -d /ml/stackoverflow_train.vw -f /ml/vw_model1_10mln.vw --bit_precision 28 --random_seed 17 -c --quiet\n",
    "validation('--passes 1 --ngram 2')\n",
    "\n",
    "!vw --passes 3 --ngram 2 --oaa 10 -d /ml/stackoverflow_train.vw -f /ml/vw_model1_10mln.vw --bit_precision 28 --random_seed 17 -c --quiet\n",
    "validation('--passes 3 --ngram 2')\n",
    "\n",
    "!vw --passes 5 --ngram 2 --oaa 10 -d /ml/stackoverflow_train.vw -f /ml/vw_model1_10mln.vw --bit_precision 28 --random_seed 17 -c --quiet\n",
    "validation('--passes 5 --ngram 2')\n",
    "\n",
    "\n",
    "!vw --passes 1 --ngram 3 --oaa 10 -d /ml/stackoverflow_train.vw -f /ml/vw_model1_10mln.vw --bit_precision 28 --random_seed 17 -c --quiet\n",
    "validation('--passes 1 --ngram 3')\n",
    "\n",
    "!vw --passes 3 --ngram 3 --oaa 10 -d /ml/stackoverflow_train.vw -f /ml/vw_model1_10mln.vw --bit_precision 28 --random_seed 17 -c --quiet\n",
    "validation('--passes 3 --ngram 3')\n",
    "\n",
    "!vw --passes 5 --ngram 3 --oaa 10 -d /ml/stackoverflow_train.vw -f /ml/vw_model1_10mln.vw --bit_precision 28 --random_seed 17 -c --quiet\n",
    "validation('--passes 5 --ngram 3')\n",
    "\n",
    "\n",
    "pbar.close()\n",
    "sv=sorted(best_score, key=best_score.get, reverse=True)\n",
    "print('best - ',sv[0],':',round(best_score[sv[0]]*100,2))"
   ]
  },
  {
   "cell_type": "code",
   "execution_count": 18,
   "metadata": {},
   "outputs": [
    {
     "name": "stdout",
     "output_type": "stream",
     "text": [
      "Какое сочетание параметров дает наибольшую долю правильных ответов на проверочной выборке stackoverflow_valid.vw?\n",
      "Биграммы и 1 проход по выборке\n"
     ]
    }
   ],
   "source": [
    "print('Какое сочетание параметров дает наибольшую долю правильных ответов на проверочной выборке stackoverflow_valid.vw?')\n",
    "print('Биграммы и 1 проход по выборке')"
   ]
  },
  {
   "cell_type": "code",
   "execution_count": 19,
   "metadata": {},
   "outputs": [
    {
     "name": "stdout",
     "output_type": "stream",
     "text": [
      "fit test\n",
      "CPU times: user 1.04 s, sys: 140 ms, total: 1.18 s\n",
      "Wall time: 1min 17s\n"
     ]
    }
   ],
   "source": [
    "%%time\n",
    "print('fit test')\n",
    "!vw --passes 1 --ngram 2 --oaa 10 -d /ml/stackoverflow_train.vw -f /ml/vw_model1_10mln.vw --bit_precision 28 --random_seed 17 -c --quiet"
   ]
  },
  {
   "cell_type": "code",
   "execution_count": 23,
   "metadata": {
    "collapsed": true
   },
   "outputs": [],
   "source": [
    "def score_test():\n",
    "    print('valid test')\n",
    "    !vw -t -i /ml/vw_model1_10mln.vw -d /ml/stackoverflow_test.vw -p /ml/vw_valid_10mln_pred1.csv --random_seed 17 --quiet\n",
    "\n",
    "    #оценка\n",
    "    print('score test')\n",
    "    vw_pred = np.loadtxt('/ml/vw_valid_10mln_pred1.csv')\n",
    "    test_labels = np.loadtxt('/ml/stackoverflow_test_labels.txt')\n",
    "    val=accuracy_score(test_labels, vw_pred)\n",
    "    print('accuracy_score test: ',round(val*100,2))   \n",
    "    return val"
   ]
  },
  {
   "cell_type": "code",
   "execution_count": 24,
   "metadata": {},
   "outputs": [
    {
     "name": "stdout",
     "output_type": "stream",
     "text": [
      "valid test\n",
      "score test\n",
      "accuracy_score test:  93.12\n",
      "best -  --passes 1 --ngram 2 : 93.11\n",
      "accuracy_score test:  93.12\n",
      "Как соотносятся доли правильных ответов лучшей (по доле правильных ответов на валидации) модели на проверочной и на тестовой выборках?\n",
      "Результаты почти одинаковы – отличаются меньше чем на 0.5%\n"
     ]
    }
   ],
   "source": [
    "val=score_test()\n",
    "\n",
    "print('best - ',sv[0],':',round(best_score[sv[0]]*100,2))\n",
    "print('accuracy_score test: ',round(val*100,2))\n",
    "round(val*100,2)-round(best_score[sv[0]]*100,2)<0.5\n",
    "\n",
    "print('Как соотносятся доли правильных ответов лучшей (по доле правильных ответов на валидации) модели на проверочной и на тестовой выборках?')\n",
    "print('Результаты почти одинаковы – отличаются меньше чем на 0.5%')"
   ]
  },
  {
   "cell_type": "code",
   "execution_count": null,
   "metadata": {},
   "outputs": [],
   "source": [
    "%%time\n",
    "import shutil\n",
    "\n",
    "shutil.copy('/ml/stackoverflow_train.vw','/ml/stackoverflow_train_valid.vw')\n",
    "\n",
    "\n",
    "outfile=open('/ml/stackoverflow_train_valid.vw', 'a')\n",
    "with open('/ml/stackoverflow_valid.vw', 'r') as infile:\n",
    "    for line in infile:\n",
    "        outfile.write(line)\n",
    "outfile.close()\n",
    "infile.close()"
   ]
  },
  {
   "cell_type": "code",
   "execution_count": 25,
   "metadata": {},
   "outputs": [
    {
     "name": "stdout",
     "output_type": "stream",
     "text": [
      "fit train_valid\n",
      "accuracy_score test:         93.12\n",
      "valid test\n",
      "score test\n",
      "accuracy_score test:  93.52\n",
      "accuracy_score train_valid:  93.52\n",
      "CPU times: user 15.1 s, sys: 170 ms, total: 15.3 s\n",
      "Wall time: 4min 28s\n"
     ]
    }
   ],
   "source": [
    "%%time\n",
    "print('fit train_valid')\n",
    "!vw --passes 1 --ngram 2 --oaa 10 -d /ml/stackoverflow_train_valid.vw -f /ml/vw_model1_10mln.vw --bit_precision 28 --random_seed 17 -c --quiet\n",
    "\n",
    "print('accuracy_score test:        ',round(val*100,2))\n",
    "val=score_test()\n",
    "print('accuracy_score train_valid: ',round(val*100,2))"
   ]
  },
  {
   "cell_type": "code",
   "execution_count": 26,
   "metadata": {},
   "outputs": [
    {
     "name": "stdout",
     "output_type": "stream",
     "text": [
      "На сколько процентных пунктов повысилась доля правильных ответов модели после обучения на вдвое большей выборке (обучающая stackoverflow_train.vw + проверочная stackoverflow_valid.vw) по сравнению с моделью, обученной только на stackoverflow_train.vw?\n",
      "0.4%\n"
     ]
    }
   ],
   "source": [
    "print('На сколько процентных пунктов повысилась доля правильных ответов модели после обучения на вдвое большей выборке (обучающая stackoverflow_train.vw + проверочная stackoverflow_valid.vw) по сравнению с моделью, обученной только на stackoverflow_train.vw?')\n",
    "print('0.4%')"
   ]
  },
  {
   "cell_type": "code",
   "execution_count": null,
   "metadata": {
    "collapsed": true
   },
   "outputs": [],
   "source": []
  }
 ],
 "metadata": {
  "kernelspec": {
   "display_name": "Python 3",
   "language": "python",
   "name": "python3"
  },
  "language_info": {
   "codemirror_mode": {
    "name": "ipython",
    "version": 3
   },
   "file_extension": ".py",
   "mimetype": "text/x-python",
   "name": "python",
   "nbconvert_exporter": "python",
   "pygments_lexer": "ipython3",
   "version": "3.5.2"
  }
 },
 "nbformat": 4,
 "nbformat_minor": 2
}

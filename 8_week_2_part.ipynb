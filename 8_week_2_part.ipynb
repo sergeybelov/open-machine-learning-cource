{
 "cells": [
  {
   "cell_type": "code",
   "execution_count": 2,
   "metadata": {
    "collapsed": true
   },
   "outputs": [],
   "source": [
    "import os\n",
    "from tqdm import tqdm\n",
    "from time import time\n",
    "import numpy as np\n",
    "from sklearn.metrics import accuracy_score"
   ]
  },
  {
   "cell_type": "markdown",
   "metadata": {},
   "source": [
    "# 2.4. Обучение и проверка моделей\n",
    "Обучите Vowpal Wabbit на выборке stackoverflow_train.vw 9 раз, перебирая параметры passes (1,3,5), ngram (1,2,3). Остальные параметры укажите следующие: bit_precision=28 и seed=17. Также скажите VW, что это 10-классовая задача.\n",
    "Проверяйте долю правильных ответов на выборке stackoverflow_valid.vw. Выберите лучшую модель и проверьте качество на выборке stackoverflow_test.vw."
   ]
  },
  {
   "cell_type": "markdown",
   "metadata": {},
   "source": [
    " -oaa 10 – указываем, что классификация на 10 классов\n",
    "\n",
    "-d – путь к данным\n",
    "-f – путь к модели, которая будет построена\n",
    "-b 28 – используем 28 бит для хэширования, то есть признаковое пространство ограничено 228 признаками, что в данном случае больше, чем число уникальных слов в выборке (но потом появятся би- и триграммы, и ограничение размерности признакового пространства начнет работать)\n",
    "также указываем random seed\n",
    "--quiet"
   ]
  },
  {
   "cell_type": "code",
   "execution_count": null,
   "metadata": {},
   "outputs": [],
   "source": [
    "from tqdm import tqdm\n",
    "pbar = tqdm()\n",
    "\n",
    "best_score={}\n",
    "def validation(text):#валидация\n",
    "    pbar.update(1)\n",
    "    !vw -t -i /ml/vw_model1_10mln.vw -d /ml/stackoverflow_valid.vw -p /ml/vw_valid_10mln_pred1.csv --random_seed 17 --quiet\n",
    "    #оценка\n",
    "    vw_pred = np.loadtxt('/ml/vw_valid_10mln_pred1.csv')\n",
    "    test_labels = np.loadtxt('/ml/stackoverflow_valid_labels.txt')\n",
    "    best_score[text]=accuracy_score(test_labels, vw_pred)\n",
    "    print('accuracy_score ',text,': ',best_score[text])\n",
    "\n",
    "\n",
    "#обучение\n",
    "!vw --passes 1 --ngram 1 --oaa 10 -d /ml/stackoverflow_train.vw -f /ml/vw_model1_10mln.vw --bit_precision 28 --random_seed 17 -c --quiet\n",
    "validation('--passes 1 --ngram 1')\n",
    "\n",
    "!vw --passes 3 --ngram 1 --oaa 10 -d /ml/stackoverflow_train.vw -f /ml/vw_model1_10mln.vw --bit_precision 28 --random_seed 17 -c --quiet\n",
    "validation('--passes 3 --ngram 1')\n",
    "\n",
    "!vw --passes 5 --ngram 1 --oaa 10 -d /ml/stackoverflow_train.vw -f /ml/vw_model1_10mln.vw --bit_precision 28 --random_seed 17 -c --quiet\n",
    "validation('--passes 5 --ngram 1')\n",
    "\n",
    "\n",
    "!vw --passes 1 --ngram 2 --oaa 10 -d /ml/stackoverflow_train.vw -f /ml/vw_model1_10mln.vw --bit_precision 28 --random_seed 17 -c --quiet\n",
    "validation('--passes 1 --ngram 2')\n",
    "\n",
    "!vw --passes 3 --ngram 2 --oaa 10 -d /ml/stackoverflow_train.vw -f /ml/vw_model1_10mln.vw --bit_precision 28 --random_seed 17 -c --quiet\n",
    "validation('--passes 3 --ngram 2')\n",
    "\n",
    "!vw --passes 5 --ngram 2 --oaa 10 -d /ml/stackoverflow_train.vw -f /ml/vw_model1_10mln.vw --bit_precision 28 --random_seed 17 -c --quiet\n",
    "validation('--passes 5 --ngram 2')\n",
    "\n",
    "\n",
    "!vw --passes 1 --ngram 3 --oaa 10 -d /ml/stackoverflow_train.vw -f /ml/vw_model1_10mln.vw --bit_precision 28 --random_seed 17 -c --quiet\n",
    "validation('--passes 1 --ngram 3')\n",
    "\n",
    "!vw --passes 3 --ngram 3 --oaa 10 -d /ml/stackoverflow_train.vw -f /ml/vw_model1_10mln.vw --bit_precision 28 --random_seed 17 -c --quiet\n",
    "validation('--passes 3 --ngram 3')\n",
    "\n",
    "!vw --passes 5 --ngram 3 --oaa 10 -d /ml/stackoverflow_train.vw -f /ml/vw_model1_10mln.vw --bit_precision 28 --random_seed 17 -c --quiet\n",
    "validation('--passes 5 --ngram 3')\n",
    "\n",
    "\n",
    "pbar.close()\n",
    "sv=sorted(best_score, key=best_score.get, reverse=True)\n",
    "print(sv[0],':',best_score[sv[0]])"
   ]
  },
  {
   "cell_type": "code",
   "execution_count": null,
   "metadata": {
    "collapsed": true
   },
   "outputs": [],
   "source": []
  }
 ],
 "metadata": {
  "kernelspec": {
   "display_name": "Python 3",
   "language": "python",
   "name": "python3"
  },
  "language_info": {
   "codemirror_mode": {
    "name": "ipython",
    "version": 3
   },
   "file_extension": ".py",
   "mimetype": "text/x-python",
   "name": "python",
   "nbconvert_exporter": "python",
   "pygments_lexer": "ipython3",
   "version": "3.5.2"
  }
 },
 "nbformat": 4,
 "nbformat_minor": 2
}
